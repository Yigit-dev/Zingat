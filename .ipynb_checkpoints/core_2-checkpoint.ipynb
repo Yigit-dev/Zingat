{
 "cells": [
  {
   "cell_type": "code",
   "execution_count": 1,
   "id": "4c921b41-bab3-49e8-be3d-508093a98567",
   "metadata": {},
   "outputs": [],
   "source": [
    "import pandas as pd\n",
    "import numpy as np\n",
    "train_set = pd.read_csv('./datasets/final_train_set.csv')\n",
    "test_set = pd.read_csv('./datasets/final_test_set.csv')"
   ]
  },
  {
   "cell_type": "markdown",
   "id": "163a8dd0-0f6b-49d7-ae90-eff81ee1654e",
   "metadata": {},
   "source": [
    "## Core - 2"
   ]
  },
  {
   "cell_type": "code",
   "execution_count": null,
   "id": "3350b746-136e-40ee-b21e-e695ca2afa62",
   "metadata": {},
   "outputs": [],
   "source": []
  }
 ],
 "metadata": {
  "kernelspec": {
   "display_name": "Python 3 (ipykernel)",
   "language": "python",
   "name": "python3"
  },
  "language_info": {
   "codemirror_mode": {
    "name": "ipython",
    "version": 3
   },
   "file_extension": ".py",
   "mimetype": "text/x-python",
   "name": "python",
   "nbconvert_exporter": "python",
   "pygments_lexer": "ipython3",
   "version": "3.9.6"
  }
 },
 "nbformat": 4,
 "nbformat_minor": 5
}
