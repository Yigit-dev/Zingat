{
 "cells": [
  {
   "cell_type": "code",
   "execution_count": 6,
   "id": "b2bcc770-f411-4a57-b171-b3e34d81f7b2",
   "metadata": {},
   "outputs": [],
   "source": [
    "import pandas as pd\n",
    "df = pd.read_csv(\"./datasets/zingat_usecase_testset_null.csv\")"
   ]
  },
  {
   "cell_type": "code",
   "execution_count": 7,
   "id": "f270bc7d-fd17-4b8a-9055-22452821ed97",
   "metadata": {},
   "outputs": [
    {
     "data": {
      "text/plain": [
       "0        2020-04-20\n",
       "1        2020-04-20\n",
       "2        2020-04-20\n",
       "3        2020-04-20\n",
       "4        2020-04-20\n",
       "            ...    \n",
       "35122    2020-12-31\n",
       "35123    2020-12-31\n",
       "35124    2020-12-31\n",
       "35125    2020-12-31\n",
       "35126    2020-12-31\n",
       "Name: tarih, Length: 35127, dtype: object"
      ]
     },
     "execution_count": 7,
     "metadata": {},
     "output_type": "execute_result"
    }
   ],
   "source": [
    "df.tarih"
   ]
  },
  {
   "cell_type": "code",
   "execution_count": 14,
   "id": "39da6d01-3d90-465d-8745-712c47cb9501",
   "metadata": {},
   "outputs": [],
   "source": [
    "df.tarih = pd.DatetimeIndex(df.tarih)"
   ]
  },
  {
   "cell_type": "code",
   "execution_count": 17,
   "id": "1a90ad07-a659-4a96-89cb-d925e5e176a7",
   "metadata": {},
   "outputs": [
    {
     "data": {
      "text/plain": [
       "0       2020-04-20\n",
       "1       2020-04-20\n",
       "2       2020-04-20\n",
       "3       2020-04-20\n",
       "4       2020-04-20\n",
       "           ...    \n",
       "35122   2020-12-31\n",
       "35123   2020-12-31\n",
       "35124   2020-12-31\n",
       "35125   2020-12-31\n",
       "35126   2020-12-31\n",
       "Name: tarih, Length: 35127, dtype: datetime64[ns]"
      ]
     },
     "execution_count": 17,
     "metadata": {},
     "output_type": "execute_result"
    }
   ],
   "source": [
    "df.tarih"
   ]
  },
  {
   "cell_type": "code",
   "execution_count": null,
   "id": "db04199f-c4aa-4008-809e-4799e0bef8b7",
   "metadata": {},
   "outputs": [],
   "source": []
  }
 ],
 "metadata": {
  "kernelspec": {
   "display_name": "Python 3 (ipykernel)",
   "language": "python",
   "name": "python3"
  },
  "language_info": {
   "codemirror_mode": {
    "name": "ipython",
    "version": 3
   },
   "file_extension": ".py",
   "mimetype": "text/x-python",
   "name": "python",
   "nbconvert_exporter": "python",
   "pygments_lexer": "ipython3",
   "version": "3.9.6"
  }
 },
 "nbformat": 4,
 "nbformat_minor": 5
}
