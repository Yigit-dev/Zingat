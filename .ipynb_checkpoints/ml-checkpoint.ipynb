{
 "cells": [
  {
   "cell_type": "code",
   "execution_count": 1,
   "id": "e136438e-4154-49b4-bfdb-08944aa56841",
   "metadata": {},
   "outputs": [],
   "source": [
    "import pandas as pd\n",
    "import numpy as np\n",
    "train_set = pd.read_csv('./datasets/final_train_set.csv')\n",
    "test_set = pd.read_csv('./datasets/final_test_set.csv')"
   ]
  },
  {
   "cell_type": "markdown",
   "id": "0985b61a-e6be-4d86-a7a7-0558bb5cd6dd",
   "metadata": {},
   "source": [
    "## Logistic Regression"
   ]
  },
  {
   "cell_type": "code",
   "execution_count": 2,
   "id": "90b48b80-3d9a-46ee-a4cb-fc55f96f37a6",
   "metadata": {},
   "outputs": [],
   "source": [
    "X_train = train_set.drop(['guncelfiyat','Ilan_ID'], axis = 1)\n",
    "Y_train = train_set['guncelfiyat']\n",
    "\n",
    "X_test = test_set.drop(['guncelfiyat','Ilan_ID'], axis = 1)\n",
    "Y_test = test_set['guncelfiyat']"
   ]
  },
  {
   "cell_type": "code",
   "execution_count": null,
   "id": "a3bbd2c5-0b2f-40d4-a2f6-f89ca8ba981b",
   "metadata": {
    "tags": []
   },
   "outputs": [],
   "source": [
    "# ÜZDÜ\n",
    "# from sklearn.linear_model import LogisticRegression\n",
    "# logistic_model = LogisticRegression(solver = 'liblinear').fit(X_train,Y_train)"
   ]
  },
  {
   "cell_type": "code",
   "execution_count": null,
   "id": "9a3b9483-2146-4090-978f-67aa632a6b82",
   "metadata": {},
   "outputs": [],
   "source": []
  },
  {
   "cell_type": "markdown",
   "id": "f7f6e6b8-00fe-4dba-a1f5-11e46b5a1260",
   "metadata": {},
   "source": [
    "## XGBoost"
   ]
  },
  {
   "cell_type": "code",
   "execution_count": 5,
   "id": "470880a2-429c-4297-ab50-5183a5f80c0f",
   "metadata": {},
   "outputs": [
    {
     "name": "stdout",
     "output_type": "stream",
     "text": [
      "Collecting xgboost\n",
      "  Downloading xgboost-1.5.0-py3-none-win_amd64.whl (106.6 MB)\n",
      "Requirement already satisfied: numpy in d:\\programs\\python\\python39\\lib\\site-packages (from xgboost) (1.21.3)\n",
      "Requirement already satisfied: scipy in d:\\programs\\python\\python39\\lib\\site-packages (from xgboost) (1.7.1)\n",
      "Installing collected packages: xgboost\n",
      "Successfully installed xgboost-1.5.0\n",
      "Note: you may need to restart the kernel to use updated packages.\n"
     ]
    },
    {
     "name": "stderr",
     "output_type": "stream",
     "text": [
      "WARNING: You are using pip version 21.3; however, version 21.3.1 is available.\n",
      "You should consider upgrading via the 'd:\\programs\\python\\python39\\python.exe -m pip install --upgrade pip' command.\n"
     ]
    }
   ],
   "source": [
    "pip install xgboost"
   ]
  },
  {
   "cell_type": "code",
   "execution_count": 54,
   "id": "0af0ef50-e082-4aca-b2cc-1c5e1e6254f3",
   "metadata": {},
   "outputs": [],
   "source": [
    "#Validation function\n",
    "n_folds = 5\n",
    "from sklearn.model_selection import KFold\n",
    "from sklearn.model_selection import cross_val_score\n",
    "import xgboost as xgb\n",
    "\n",
    "def rmsle_cv(model):\n",
    "    kf = KFold(n_folds, shuffle=True, random_state=42).get_n_splits(X_train)\n",
    "    rmse= np.sqrt(-cross_val_score(model, X_train, Y_train, scoring=\"neg_mean_squared_error\", cv = kf))\n",
    "    return(rmse)\n",
    "\n",
    "def rmsle(y, y_pred):\n",
    "    return np.sqrt(mean_squared_error(y, y_pred))"
   ]
  },
  {
   "cell_type": "code",
   "execution_count": 55,
   "id": "616baa99-721d-4291-88fa-47a9f6490efc",
   "metadata": {},
   "outputs": [],
   "source": [
    "model_xgb = xgb.XGBRegressor(colsample_bytree=0.4603, gamma=0.0468, \n",
    "                             learning_rate=0.05, max_depth=3, \n",
    "                             min_child_weight=1.7817, n_estimators=2200,\n",
    "                             reg_alpha=0.4640, reg_lambda=0.8571,\n",
    "                             subsample=0.5213,\n",
    "                             random_state =7, nthread = -1)"
   ]
  },
  {
   "cell_type": "code",
   "execution_count": 95,
   "id": "f9de51e1-9aa5-4f80-8267-5eec3338dec0",
   "metadata": {
    "tags": []
   },
   "outputs": [],
   "source": [
    "model_xgb.fit(X_train, Y_train)\n",
    "xgb_train_pred = model_xgb.predict(X_train)\n",
    "xgb_pred = model_xgb.predict(X_test)\n",
    "test_set['guncelfiyat'] = xgb_pred"
   ]
  },
  {
   "cell_type": "code",
   "execution_count": 103,
   "id": "4fa691f6-b0ec-4762-aa1a-944d8e94afcd",
   "metadata": {},
   "outputs": [
    {
     "data": {
      "text/html": [
       "<div>\n",
       "<style scoped>\n",
       "    .dataframe tbody tr th:only-of-type {\n",
       "        vertical-align: middle;\n",
       "    }\n",
       "\n",
       "    .dataframe tbody tr th {\n",
       "        vertical-align: top;\n",
       "    }\n",
       "\n",
       "    .dataframe thead th {\n",
       "        text-align: right;\n",
       "    }\n",
       "</style>\n",
       "<table border=\"1\" class=\"dataframe\">\n",
       "  <thead>\n",
       "    <tr style=\"text-align: right;\">\n",
       "      <th></th>\n",
       "      <th>guncelfiyat</th>\n",
       "      <th>Ilan_ID</th>\n",
       "    </tr>\n",
       "  </thead>\n",
       "  <tbody>\n",
       "    <tr>\n",
       "      <th>0</th>\n",
       "      <td>656623</td>\n",
       "      <td>64650</td>\n",
       "    </tr>\n",
       "    <tr>\n",
       "      <th>1</th>\n",
       "      <td>311999</td>\n",
       "      <td>64651</td>\n",
       "    </tr>\n",
       "    <tr>\n",
       "      <th>2</th>\n",
       "      <td>1276837</td>\n",
       "      <td>64652</td>\n",
       "    </tr>\n",
       "    <tr>\n",
       "      <th>3</th>\n",
       "      <td>311999</td>\n",
       "      <td>64653</td>\n",
       "    </tr>\n",
       "    <tr>\n",
       "      <th>4</th>\n",
       "      <td>86302</td>\n",
       "      <td>64654</td>\n",
       "    </tr>\n",
       "    <tr>\n",
       "      <th>...</th>\n",
       "      <td>...</td>\n",
       "      <td>...</td>\n",
       "    </tr>\n",
       "    <tr>\n",
       "      <th>35122</th>\n",
       "      <td>1350698</td>\n",
       "      <td>99666</td>\n",
       "    </tr>\n",
       "    <tr>\n",
       "      <th>35123</th>\n",
       "      <td>261636</td>\n",
       "      <td>99667</td>\n",
       "    </tr>\n",
       "    <tr>\n",
       "      <th>35124</th>\n",
       "      <td>206466</td>\n",
       "      <td>99668</td>\n",
       "    </tr>\n",
       "    <tr>\n",
       "      <th>35125</th>\n",
       "      <td>2288881</td>\n",
       "      <td>99656</td>\n",
       "    </tr>\n",
       "    <tr>\n",
       "      <th>35126</th>\n",
       "      <td>261636</td>\n",
       "      <td>99700</td>\n",
       "    </tr>\n",
       "  </tbody>\n",
       "</table>\n",
       "<p>35127 rows × 2 columns</p>\n",
       "</div>"
      ],
      "text/plain": [
       "       guncelfiyat  Ilan_ID\n",
       "0           656623    64650\n",
       "1           311999    64651\n",
       "2          1276837    64652\n",
       "3           311999    64653\n",
       "4            86302    64654\n",
       "...            ...      ...\n",
       "35122      1350698    99666\n",
       "35123       261636    99667\n",
       "35124       206466    99668\n",
       "35125      2288881    99656\n",
       "35126       261636    99700\n",
       "\n",
       "[35127 rows x 2 columns]"
      ]
     },
     "execution_count": 103,
     "metadata": {},
     "output_type": "execute_result"
    }
   ],
   "source": [
    "test_set['guncelfiyat'] = test_set['guncelfiyat'].astype(int)\n",
    "df = test_set[['guncelfiyat','Ilan_ID']]\n",
    "df"
   ]
  },
  {
   "cell_type": "code",
   "execution_count": 125,
   "id": "da265c58-d119-4240-9ca5-a2a2a4a20deb",
   "metadata": {},
   "outputs": [],
   "source": [
    "submission = pd.read_csv('./datasets/sample_submission_zingat.csv')\n",
    "submission = submission.rename(columns = {'Id': 'Ilan_ID'})\n",
    "submission = submission.merge(df, how='inner', on='Ilan_ID')\n",
    "submission = submission.drop('Expected', axis = 1)\n",
    "submission = submission.rename(columns = {'guncelfiyat': 'Expected'})\n",
    "submission = submission.rename(columns = {'Ilan_ID': 'Id'})\n",
    "submission = submission[['Id','Expected']]"
   ]
  },
  {
   "cell_type": "code",
   "execution_count": 126,
   "id": "ca270623-3849-4a34-94c5-ac8b9cd62cb7",
   "metadata": {},
   "outputs": [
    {
     "data": {
      "text/html": [
       "<div>\n",
       "<style scoped>\n",
       "    .dataframe tbody tr th:only-of-type {\n",
       "        vertical-align: middle;\n",
       "    }\n",
       "\n",
       "    .dataframe tbody tr th {\n",
       "        vertical-align: top;\n",
       "    }\n",
       "\n",
       "    .dataframe thead th {\n",
       "        text-align: right;\n",
       "    }\n",
       "</style>\n",
       "<table border=\"1\" class=\"dataframe\">\n",
       "  <thead>\n",
       "    <tr style=\"text-align: right;\">\n",
       "      <th></th>\n",
       "      <th>Id</th>\n",
       "      <th>Expected</th>\n",
       "    </tr>\n",
       "  </thead>\n",
       "  <tbody>\n",
       "    <tr>\n",
       "      <th>0</th>\n",
       "      <td>64650</td>\n",
       "      <td>656623</td>\n",
       "    </tr>\n",
       "    <tr>\n",
       "      <th>1</th>\n",
       "      <td>64651</td>\n",
       "      <td>311999</td>\n",
       "    </tr>\n",
       "    <tr>\n",
       "      <th>2</th>\n",
       "      <td>64652</td>\n",
       "      <td>1276837</td>\n",
       "    </tr>\n",
       "    <tr>\n",
       "      <th>3</th>\n",
       "      <td>64653</td>\n",
       "      <td>311999</td>\n",
       "    </tr>\n",
       "    <tr>\n",
       "      <th>4</th>\n",
       "      <td>64654</td>\n",
       "      <td>86302</td>\n",
       "    </tr>\n",
       "    <tr>\n",
       "      <th>...</th>\n",
       "      <td>...</td>\n",
       "      <td>...</td>\n",
       "    </tr>\n",
       "    <tr>\n",
       "      <th>35122</th>\n",
       "      <td>99666</td>\n",
       "      <td>1350698</td>\n",
       "    </tr>\n",
       "    <tr>\n",
       "      <th>35123</th>\n",
       "      <td>99667</td>\n",
       "      <td>261636</td>\n",
       "    </tr>\n",
       "    <tr>\n",
       "      <th>35124</th>\n",
       "      <td>99668</td>\n",
       "      <td>206466</td>\n",
       "    </tr>\n",
       "    <tr>\n",
       "      <th>35125</th>\n",
       "      <td>99656</td>\n",
       "      <td>2288881</td>\n",
       "    </tr>\n",
       "    <tr>\n",
       "      <th>35126</th>\n",
       "      <td>99700</td>\n",
       "      <td>261636</td>\n",
       "    </tr>\n",
       "  </tbody>\n",
       "</table>\n",
       "<p>35127 rows × 2 columns</p>\n",
       "</div>"
      ],
      "text/plain": [
       "          Id  Expected\n",
       "0      64650    656623\n",
       "1      64651    311999\n",
       "2      64652   1276837\n",
       "3      64653    311999\n",
       "4      64654     86302\n",
       "...      ...       ...\n",
       "35122  99666   1350698\n",
       "35123  99667    261636\n",
       "35124  99668    206466\n",
       "35125  99656   2288881\n",
       "35126  99700    261636\n",
       "\n",
       "[35127 rows x 2 columns]"
      ]
     },
     "execution_count": 126,
     "metadata": {},
     "output_type": "execute_result"
    }
   ],
   "source": [
    "submission # Sonuç: 2275555.60719"
   ]
  },
  {
   "cell_type": "code",
   "execution_count": 127,
   "id": "0242e5c8-98ec-409e-98cc-20bdf8aa1813",
   "metadata": {},
   "outputs": [],
   "source": [
    "submission.to_csv('./datasets/final_submission_set.csv', index=False)"
   ]
  },
  {
   "cell_type": "code",
   "execution_count": null,
   "id": "38933084-43a5-49d6-af93-4d1a14fb551e",
   "metadata": {},
   "outputs": [],
   "source": [
    "print(rmsle(Y_train, xgb_train_pred))"
   ]
  }
 ],
 "metadata": {
  "kernelspec": {
   "display_name": "Python 3 (ipykernel)",
   "language": "python",
   "name": "python3"
  },
  "language_info": {
   "codemirror_mode": {
    "name": "ipython",
    "version": 3
   },
   "file_extension": ".py",
   "mimetype": "text/x-python",
   "name": "python",
   "nbconvert_exporter": "python",
   "pygments_lexer": "ipython3",
   "version": "3.9.6"
  }
 },
 "nbformat": 4,
 "nbformat_minor": 5
}
