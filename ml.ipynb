{
 "cells": [
  {
   "cell_type": "code",
   "execution_count": 1,
   "id": "e136438e-4154-49b4-bfdb-08944aa56841",
   "metadata": {},
   "outputs": [],
   "source": [
    "import pandas as pd\n",
    "import numpy as np\n",
    "train_set = pd.read_csv('./datasets/final_train_set.csv')\n",
    "test_set = pd.read_csv('./datasets/final_test_set.csv')"
   ]
  },
  {
   "cell_type": "markdown",
   "id": "0985b61a-e6be-4d86-a7a7-0558bb5cd6dd",
   "metadata": {},
   "source": [
    "## Train and Test"
   ]
  },
  {
   "cell_type": "code",
   "execution_count": 2,
   "id": "90b48b80-3d9a-46ee-a4cb-fc55f96f37a6",
   "metadata": {},
   "outputs": [],
   "source": [
    "X_train = train_set.drop(['guncelfiyat','Ilan_ID'], axis = 1)\n",
    "Y_train = train_set['guncelfiyat']\n",
    "\n",
    "X_test = test_set.drop(['guncelfiyat','Ilan_ID'], axis = 1)\n",
    "Y_test = test_set['guncelfiyat']"
   ]
  },
  {
   "cell_type": "code",
   "execution_count": 3,
   "id": "0af0ef50-e082-4aca-b2cc-1c5e1e6254f3",
   "metadata": {
    "tags": []
   },
   "outputs": [],
   "source": [
    "#Validation function\n",
    "n_folds = 5\n",
    "from sklearn.model_selection import KFold\n",
    "from sklearn.model_selection import cross_val_score\n",
    "from sklearn.metrics import mean_squared_error\n",
    "\n",
    "\n",
    "\n",
    "def rmsle_cv(model):\n",
    "    kf = KFold(n_folds, shuffle=True, random_state=42).get_n_splits(X_train)\n",
    "    rmse= np.sqrt(-cross_val_score(model, X_train, Y_train, scoring=\"neg_mean_squared_error\", cv = kf))\n",
    "    return(rmse)\n",
    "\n",
    "def rmsle(y, y_pred):\n",
    "    return np.sqrt(mean_squared_error(y, y_pred))"
   ]
  },
  {
   "cell_type": "markdown",
   "id": "f7f6e6b8-00fe-4dba-a1f5-11e46b5a1260",
   "metadata": {},
   "source": [
    "## XGBoost"
   ]
  },
  {
   "cell_type": "code",
   "execution_count": 4,
   "id": "470880a2-429c-4297-ab50-5183a5f80c0f",
   "metadata": {
    "tags": []
   },
   "outputs": [],
   "source": [
    "#pip install xgboost"
   ]
  },
  {
   "cell_type": "code",
   "execution_count": 5,
   "id": "422e8da1-e1b4-4bf7-bbaf-95f55516d02f",
   "metadata": {},
   "outputs": [],
   "source": [
    "import xgboost as xgb"
   ]
  },
  {
   "cell_type": "code",
   "execution_count": 6,
   "id": "1ec68736-db20-48d0-976f-bd73012e0a3a",
   "metadata": {},
   "outputs": [
    {
     "data": {
      "text/plain": [
       "'from sklearn import svm\\nfrom sklearn.model_selection import GridSearchCV'"
      ]
     },
     "execution_count": 6,
     "metadata": {},
     "output_type": "execute_result"
    }
   ],
   "source": [
    "\"\"\"from sklearn import svm\n",
    "from sklearn.model_selection import GridSearchCV\"\"\""
   ]
  },
  {
   "cell_type": "code",
   "execution_count": 7,
   "id": "2143c370-2a64-423b-954c-9be24283b42f",
   "metadata": {
    "tags": []
   },
   "outputs": [
    {
     "data": {
      "text/plain": [
       "'parameters = {\"n_estimators\":[100,500,1000],\\n             \"subsample\":[0.6,0.8,1],\\n             \"max_depth\":[3,5,7],\\n             \"learning_rate\":[0.1,0.0,0.01]}\\n#svc = svm.SVC()\\nxgboost = xgb.XGBRegressor()\\nxgboost_cv = GridSearchCV(xgboost, parameters)'"
      ]
     },
     "execution_count": 7,
     "metadata": {},
     "output_type": "execute_result"
    }
   ],
   "source": [
    "\"\"\"parameters = {\"n_estimators\":[100,500,1000],\n",
    "             \"subsample\":[0.6,0.8,1],\n",
    "             \"max_depth\":[3,5,7],\n",
    "             \"learning_rate\":[0.1,0.0,0.01]}\n",
    "#svc = svm.SVC()\n",
    "xgboost = xgb.XGBRegressor()\n",
    "xgboost_cv = GridSearchCV(xgboost, parameters)\"\"\""
   ]
  },
  {
   "cell_type": "code",
   "execution_count": 8,
   "id": "40d8580b-fae3-479c-9111-18cc76451782",
   "metadata": {
    "tags": []
   },
   "outputs": [
    {
     "data": {
      "text/plain": [
       "'best_xgb = xgboost_cv.bestparams\\nbest_xgb'"
      ]
     },
     "execution_count": 8,
     "metadata": {},
     "output_type": "execute_result"
    }
   ],
   "source": [
    "\"\"\"best_xgb = xgboost_cv.bestparams\n",
    "best_xgb\"\"\""
   ]
  },
  {
   "cell_type": "code",
   "execution_count": 9,
   "id": "e3d76e2d-4bc0-4b00-8dd8-ab69786a2cb2",
   "metadata": {},
   "outputs": [
    {
     "data": {
      "text/plain": [
       "\"from sklearn.model_selection import RandomizedSearchCV\\nfrom sklearn.model_selection import StratifiedKFold\\nfolds = 3\\nparam_comb = 5\\n\\nskf = StratifiedKFold(n_splits=folds, shuffle = True, random_state = 1001)\\n\\nrandom_search = RandomizedSearchCV(xgb, param_distributions=params, n_iter=param_comb, scoring='roc_auc', n_jobs=4,  verbose=3, random_state=1001 )\\n\""
      ]
     },
     "execution_count": 9,
     "metadata": {},
     "output_type": "execute_result"
    }
   ],
   "source": [
    "\"\"\"from sklearn.model_selection import RandomizedSearchCV\n",
    "from sklearn.model_selection import StratifiedKFold\n",
    "folds = 3\n",
    "param_comb = 5\n",
    "\n",
    "skf = StratifiedKFold(n_splits=folds, shuffle = True, random_state = 1001)\n",
    "\n",
    "random_search = RandomizedSearchCV(xgb, param_distributions=params, n_iter=param_comb, scoring='roc_auc', n_jobs=4,  verbose=3, random_state=1001 )\n",
    "\"\"\""
   ]
  },
  {
   "cell_type": "code",
   "execution_count": 10,
   "id": "616baa99-721d-4291-88fa-47a9f6490efc",
   "metadata": {
    "tags": []
   },
   "outputs": [],
   "source": [
    "model_xgb = xgb.XGBRegressor(colsample_bytree=0.4603,gamma=0.0468, \n",
    "                             learning_rate=0.05, max_depth=3, \n",
    "                             min_child_weight=1.7817, n_estimators=2200,\n",
    "                             reg_alpha=0.4640, reg_lambda=0.8571,\n",
    "                             subsample=0.5213,\n",
    "                             random_state =7, nthread = -1).fit(X_train, Y_train)"
   ]
  },
  {
   "cell_type": "code",
   "execution_count": 11,
   "id": "7e6758b9-f07a-4b2a-929d-098a3799c6fd",
   "metadata": {},
   "outputs": [
    {
     "data": {
      "text/plain": [
       "'verbosity=3,nthread=-1,\\n                             learning_rate=0.5,gamma=1.0,\\n                             max_depth=6,min_child_weight =2,subsample  =0.55'"
      ]
     },
     "execution_count": 11,
     "metadata": {},
     "output_type": "execute_result"
    }
   ],
   "source": [
    "\"\"\"verbosity=3,nthread=-1,\n",
    "                             learning_rate=0.5,gamma=1.0,\n",
    "                             max_depth=6,min_child_weight =2,subsample  =0.55\"\"\""
   ]
  },
  {
   "cell_type": "code",
   "execution_count": 12,
   "id": "f9de51e1-9aa5-4f80-8267-5eec3338dec0",
   "metadata": {
    "tags": []
   },
   "outputs": [],
   "source": [
    "# model_xgb\n",
    "xgb_train_pred = model_xgb.predict(X_train)\n",
    "xgb_pred = model_xgb.predict(X_test)"
   ]
  },
  {
   "cell_type": "code",
   "execution_count": 13,
   "id": "e3912cec-95fe-4d7e-af74-ca02d501a3de",
   "metadata": {},
   "outputs": [],
   "source": [
    "# pip install plotly_express"
   ]
  },
  {
   "cell_type": "code",
   "execution_count": 14,
   "id": "ee5d1547-e9b7-46a0-9185-69bb3caad297",
   "metadata": {},
   "outputs": [],
   "source": [
    "#pip install matplotlib"
   ]
  },
  {
   "cell_type": "code",
   "execution_count": 19,
   "id": "0c5fb7ab-3996-43f5-a170-b9e4c82af62a",
   "metadata": {
    "tags": []
   },
   "outputs": [],
   "source": [
    "# col_sorted_by_importance = model_xgb.feature_importances_.argsort()\n",
    "# feat_imp = pd.DataFrame({\n",
    "#     'cols':X_train.columns[col_sorted_by_importance],\n",
    "#     'imps':model_xgb.feature_importances_[col_sorted_by_importance]\n",
    "# })\n",
    "\n",
    "# import plotly_express as px\n",
    "# from matplotlib import pyplot\n",
    "# # px.bar(feat_imp, x='cols', y='imps')\n",
    "# # plt.barh(train_set.ilce, xgb.feature_importances_)\n",
    "# pyplot.bar(range(len(model_xgb.feature_importances_)), model_xgb.feature_importances_)\n",
    "# pyplot.show()"
   ]
  },
  {
   "cell_type": "code",
   "execution_count": 16,
   "id": "4b71a85d-fee8-4325-a9a6-afc00ef10aac",
   "metadata": {
    "tags": []
   },
   "outputs": [],
   "source": [
    "# plot_importance(model_xgb)\n",
    "# pyplot.show()"
   ]
  },
  {
   "cell_type": "code",
   "execution_count": 17,
   "id": "425fe5aa-98c9-4c84-a790-99e3b17ab040",
   "metadata": {},
   "outputs": [],
   "source": [
    "test_set_xgb = test_set.copy()\n",
    "test_set_xgb['guncelfiyat'] = abs(xgb_pred)"
   ]
  },
  {
   "cell_type": "code",
   "execution_count": 18,
   "id": "ca270623-3849-4a34-94c5-ac8b9cd62cb7",
   "metadata": {
    "tags": []
   },
   "outputs": [],
   "source": [
    "#submission_xgb Sonuç: 2275555.60719"
   ]
  },
  {
   "cell_type": "markdown",
   "id": "cdd92e82-43ba-4749-b524-af9e0901028d",
   "metadata": {},
   "source": [
    "## GBM"
   ]
  },
  {
   "cell_type": "code",
   "execution_count": 38,
   "id": "bbcb04d1-2963-466e-8ffa-ae24143e9bda",
   "metadata": {},
   "outputs": [],
   "source": [
    "from sklearn.datasets import make_regression\n",
    "from sklearn.ensemble import GradientBoostingRegressor"
   ]
  },
  {
   "cell_type": "code",
   "execution_count": 39,
   "id": "5597a35c-d0de-4430-b880-09137e193af2",
   "metadata": {},
   "outputs": [],
   "source": [
    "model_gbm = GradientBoostingRegressor(max_depth=6, min_samples_split=3,\n",
    "                                      min_samples_leaf=1, subsample=1, \n",
    "                                      max_features='sqrt', random_state=20) "
   ]
  },
  {
   "cell_type": "code",
   "execution_count": 40,
   "id": "459fd5a2-c063-44a3-b83e-f3d2bc8ef33b",
   "metadata": {
    "tags": []
   },
   "outputs": [],
   "source": [
    "model_gbm.fit(X_train, Y_train)\n",
    "gbm_pred = model_gbm.predict(X_test)\n",
    "gbm_train_pred = model_gbm.predict(X_train)"
   ]
  },
  {
   "cell_type": "code",
   "execution_count": 41,
   "id": "497faab8-cdcd-4c1d-91c4-be26b46f4795",
   "metadata": {},
   "outputs": [],
   "source": [
    "test_set_gbm = test_set.copy()\n",
    "test_set_gbm['guncelfiyat'] = abs(gbm_pred)"
   ]
  },
  {
   "cell_type": "markdown",
   "id": "5e56db39-a23e-447d-a454-0aca3dfb610e",
   "metadata": {},
   "source": [
    "## Random Forest"
   ]
  },
  {
   "cell_type": "code",
   "execution_count": 24,
   "id": "2dcbb231-b828-44d5-bb85-eb0965c9eafc",
   "metadata": {},
   "outputs": [],
   "source": [
    "# from sklearn.ensemble import RandomForestRegressor"
   ]
  },
  {
   "cell_type": "code",
   "execution_count": 25,
   "id": "a845e86c-f5d4-49b6-98d6-4829237db7b1",
   "metadata": {},
   "outputs": [
    {
     "data": {
      "text/plain": [
       "\"{'bootstrap': True,\\n 'max_depth': 80,\\n 'max_features': 3,\\n 'min_samples_leaf': 5,\\n 'min_samples_split': 12,\\n 'n_estimators': 100}\""
      ]
     },
     "execution_count": 25,
     "metadata": {},
     "output_type": "execute_result"
    }
   ],
   "source": [
    "\"\"\"{'bootstrap': True,\n",
    " 'max_depth': 80,\n",
    " 'max_features': 3,\n",
    " 'min_samples_leaf': 5,\n",
    " 'min_samples_split': 12,\n",
    " 'n_estimators': 100}\"\"\""
   ]
  },
  {
   "cell_type": "code",
   "execution_count": 26,
   "id": "e1ae5524-4431-4ccb-8776-9aac610451e0",
   "metadata": {},
   "outputs": [],
   "source": [
    "# model_randomforest = RandomForestRegressor (max_depth= 100,\n",
    "#                                             max_features= 6, min_samples_leaf=3,\n",
    "#                                             min_samples_split= 24,n_estimators= 100) "
   ]
  },
  {
   "cell_type": "code",
   "execution_count": 27,
   "id": "a9dd3fb9-d3c6-4040-a1d7-11af88f7f525",
   "metadata": {},
   "outputs": [],
   "source": [
    "# model_randomforest.fit(X_train, Y_train)\n",
    "# forest_pred = model_randomforest.predict(X_test)\n",
    "# forest_train_pred = model_randomforest.predict(X_train)"
   ]
  },
  {
   "cell_type": "code",
   "execution_count": 28,
   "id": "6f7b0f19-c8cb-431b-bd6e-d28f93721c2f",
   "metadata": {},
   "outputs": [],
   "source": [
    "# test_set_forest = test_set.copy()\n",
    "# test_set_forest['guncelfiyat'] = forest_gbm"
   ]
  },
  {
   "cell_type": "markdown",
   "id": "3648e9bb-a6af-42f3-bf5a-e53ee60e8c6e",
   "metadata": {},
   "source": [
    "## Lojistik Regresyon (Çalışmadı)"
   ]
  },
  {
   "cell_type": "code",
   "execution_count": 29,
   "id": "6c278778-9191-4c17-9e01-250ac1b8cc41",
   "metadata": {},
   "outputs": [
    {
     "data": {
      "text/plain": [
       "'from sklearn.linear_model import LogisticRegression'"
      ]
     },
     "execution_count": 29,
     "metadata": {},
     "output_type": "execute_result"
    }
   ],
   "source": [
    "\"\"\"from sklearn.linear_model import LogisticRegression\"\"\""
   ]
  },
  {
   "cell_type": "code",
   "execution_count": 30,
   "id": "702505c0-9682-4803-853c-215ba34e131c",
   "metadata": {},
   "outputs": [
    {
     "data": {
      "text/plain": [
       "'model_lojistic = LogisticRegression(random_state=0)'"
      ]
     },
     "execution_count": 30,
     "metadata": {},
     "output_type": "execute_result"
    }
   ],
   "source": [
    "\"\"\"model_lojistic = LogisticRegression(random_state=0)\"\"\""
   ]
  },
  {
   "cell_type": "code",
   "execution_count": 31,
   "id": "c17d71bb-81ed-4d14-a528-5eb02aead307",
   "metadata": {
    "tags": []
   },
   "outputs": [
    {
     "data": {
      "text/plain": [
       "'model_lojistic.fit(X_train,Y_train)\\nlojistic_pred = model_lojistic.predict(X_test)\\nlojistic_train_pred = model_lojistic.predict(X_train)'"
      ]
     },
     "execution_count": 31,
     "metadata": {},
     "output_type": "execute_result"
    }
   ],
   "source": [
    "\"\"\"model_lojistic.fit(X_train,Y_train)\n",
    "lojistic_pred = model_lojistic.predict(X_test)\n",
    "lojistic_train_pred = model_lojistic.predict(X_train)\"\"\""
   ]
  },
  {
   "cell_type": "markdown",
   "id": "5fef4a89-9b39-46c1-bffd-cf776d9abbac",
   "metadata": {},
   "source": [
    "## DF to .csv and Submission"
   ]
  },
  {
   "cell_type": "code",
   "execution_count": 43,
   "id": "4fa691f6-b0ec-4762-aa1a-944d8e94afcd",
   "metadata": {
    "tags": []
   },
   "outputs": [
    {
     "data": {
      "text/html": [
       "<div>\n",
       "<style scoped>\n",
       "    .dataframe tbody tr th:only-of-type {\n",
       "        vertical-align: middle;\n",
       "    }\n",
       "\n",
       "    .dataframe tbody tr th {\n",
       "        vertical-align: top;\n",
       "    }\n",
       "\n",
       "    .dataframe thead th {\n",
       "        text-align: right;\n",
       "    }\n",
       "</style>\n",
       "<table border=\"1\" class=\"dataframe\">\n",
       "  <thead>\n",
       "    <tr style=\"text-align: right;\">\n",
       "      <th></th>\n",
       "      <th>guncelfiyat</th>\n",
       "      <th>Ilan_ID</th>\n",
       "    </tr>\n",
       "  </thead>\n",
       "  <tbody>\n",
       "    <tr>\n",
       "      <th>0</th>\n",
       "      <td>499893</td>\n",
       "      <td>64650</td>\n",
       "    </tr>\n",
       "    <tr>\n",
       "      <th>1</th>\n",
       "      <td>188561</td>\n",
       "      <td>64651</td>\n",
       "    </tr>\n",
       "    <tr>\n",
       "      <th>2</th>\n",
       "      <td>1233433</td>\n",
       "      <td>64652</td>\n",
       "    </tr>\n",
       "    <tr>\n",
       "      <th>3</th>\n",
       "      <td>188561</td>\n",
       "      <td>64653</td>\n",
       "    </tr>\n",
       "    <tr>\n",
       "      <th>4</th>\n",
       "      <td>148393</td>\n",
       "      <td>64654</td>\n",
       "    </tr>\n",
       "    <tr>\n",
       "      <th>...</th>\n",
       "      <td>...</td>\n",
       "      <td>...</td>\n",
       "    </tr>\n",
       "    <tr>\n",
       "      <th>35122</th>\n",
       "      <td>1725192</td>\n",
       "      <td>99666</td>\n",
       "    </tr>\n",
       "    <tr>\n",
       "      <th>35123</th>\n",
       "      <td>23703</td>\n",
       "      <td>99667</td>\n",
       "    </tr>\n",
       "    <tr>\n",
       "      <th>35124</th>\n",
       "      <td>222431</td>\n",
       "      <td>99668</td>\n",
       "    </tr>\n",
       "    <tr>\n",
       "      <th>35125</th>\n",
       "      <td>1819142</td>\n",
       "      <td>99656</td>\n",
       "    </tr>\n",
       "    <tr>\n",
       "      <th>35126</th>\n",
       "      <td>23703</td>\n",
       "      <td>99700</td>\n",
       "    </tr>\n",
       "  </tbody>\n",
       "</table>\n",
       "<p>35127 rows × 2 columns</p>\n",
       "</div>"
      ],
      "text/plain": [
       "       guncelfiyat  Ilan_ID\n",
       "0           499893    64650\n",
       "1           188561    64651\n",
       "2          1233433    64652\n",
       "3           188561    64653\n",
       "4           148393    64654\n",
       "...            ...      ...\n",
       "35122      1725192    99666\n",
       "35123        23703    99667\n",
       "35124       222431    99668\n",
       "35125      1819142    99656\n",
       "35126        23703    99700\n",
       "\n",
       "[35127 rows x 2 columns]"
      ]
     },
     "execution_count": 43,
     "metadata": {},
     "output_type": "execute_result"
    }
   ],
   "source": [
    "test_set_xgb['guncelfiyat'] = test_set_xgb['guncelfiyat'].astype(int)\n",
    "df = test_set_xgb[['guncelfiyat','Ilan_ID']]\n",
    "df"
   ]
  },
  {
   "cell_type": "code",
   "execution_count": 44,
   "id": "da265c58-d119-4240-9ca5-a2a2a4a20deb",
   "metadata": {},
   "outputs": [],
   "source": [
    "submission_df = pd.read_csv('./datasets/sample_submission_zingat.csv')"
   ]
  },
  {
   "cell_type": "code",
   "execution_count": 45,
   "id": "377f5c80-8d1e-4aa4-b4e9-42ae6ee1aeb4",
   "metadata": {},
   "outputs": [],
   "source": [
    "def final_submission(data):\n",
    "    \n",
    "    data = data.rename(columns = {'Id': 'Ilan_ID'})\n",
    "    data = data.merge(df, how='inner', on='Ilan_ID')\n",
    "    data = data.drop('Expected', axis = 1)\n",
    "    data = data.rename(columns = {'guncelfiyat': 'Expected'})\n",
    "    data = data.rename(columns = {'Ilan_ID': 'Id'})\n",
    "    #data = abs(data)\n",
    "    return data"
   ]
  },
  {
   "cell_type": "code",
   "execution_count": 46,
   "id": "95dbac59-5d03-4c3f-9d8a-18bed5d9df2b",
   "metadata": {},
   "outputs": [
    {
     "data": {
      "text/plain": [
       "'submission_cat = final_submission(submission_df)\\nsubmission_gbm = final_submission(submission_df)\\nsubmission_forest = final_submission(submission_df)'"
      ]
     },
     "execution_count": 46,
     "metadata": {},
     "output_type": "execute_result"
    }
   ],
   "source": [
    "submission_xgb = final_submission(submission_df)\n",
    "\n",
    "\"\"\"submission_cat = final_submission(submission_df)\n",
    "submission_gbm = final_submission(submission_df)\n",
    "submission_forest = final_submission(submission_df)\"\"\""
   ]
  },
  {
   "cell_type": "code",
   "execution_count": 47,
   "id": "0242e5c8-98ec-409e-98cc-20bdf8aa1813",
   "metadata": {},
   "outputs": [
    {
     "data": {
      "text/plain": [
       "\"submission_cat.to_csv('./datasets/final_submission_set_cat.csv', index=False)\\nsubmission_gbm.to_csv('./datasets/final_submission_set_gbm.csv', index=False)\\nsubmission_forest.to_csv('./datasets/final_submission_set_forest.csv', index=False)\""
      ]
     },
     "execution_count": 47,
     "metadata": {},
     "output_type": "execute_result"
    }
   ],
   "source": [
    "submission_xgb.to_csv('./datasets/final_submission_set_xgb.csv', index=False)\n",
    "\"\"\"submission_cat.to_csv('./datasets/final_submission_set_cat.csv', index=False)\n",
    "submission_gbm.to_csv('./datasets/final_submission_set_gbm.csv', index=False)\n",
    "submission_forest.to_csv('./datasets/final_submission_set_forest.csv', index=False)\"\"\""
   ]
  },
  {
   "cell_type": "markdown",
   "id": "ddc54f0e-122a-4741-a9ee-9b807b9d2736",
   "metadata": {},
   "source": [
    "## RMSLE"
   ]
  },
  {
   "cell_type": "code",
   "execution_count": 37,
   "id": "f878e5fd-d1f2-46da-8f55-f3559c47700d",
   "metadata": {
    "tags": []
   },
   "outputs": [],
   "source": [
    "#print(rmsle_cv(model_xgb))"
   ]
  },
  {
   "cell_type": "code",
   "execution_count": 35,
   "id": "38933084-43a5-49d6-af93-4d1a14fb551e",
   "metadata": {},
   "outputs": [
    {
     "name": "stdout",
     "output_type": "stream",
     "text": [
      "384014.92794760736\n"
     ]
    }
   ],
   "source": [
    "print(rmsle(Y_train,xgb_train_pred))"
   ]
  },
  {
   "cell_type": "code",
   "execution_count": 42,
   "id": "cd1fc150-1ecb-4fea-805b-a53c4ed580f0",
   "metadata": {},
   "outputs": [
    {
     "name": "stdout",
     "output_type": "stream",
     "text": [
      "394935.9392685049\n"
     ]
    }
   ],
   "source": [
    "print(rmsle(Y_train, gbm_train_pred))"
   ]
  },
  {
   "cell_type": "code",
   "execution_count": 166,
   "id": "74bf59aa-ac34-4dcd-8f87-d9587c4f2e8d",
   "metadata": {},
   "outputs": [
    {
     "name": "stdout",
     "output_type": "stream",
     "text": [
      "2482186.248346084\n"
     ]
    }
   ],
   "source": [
    "# print(rmsle(Y_train, forest_train_pred))"
   ]
  }
 ],
 "metadata": {
  "kernelspec": {
   "display_name": "Python 3",
   "language": "python",
   "name": "python3"
  },
  "language_info": {
   "codemirror_mode": {
    "name": "ipython",
    "version": 3
   },
   "file_extension": ".py",
   "mimetype": "text/x-python",
   "name": "python",
   "nbconvert_exporter": "python",
   "pygments_lexer": "ipython3",
   "version": "3.8.8"
  }
 },
 "nbformat": 4,
 "nbformat_minor": 5
}
