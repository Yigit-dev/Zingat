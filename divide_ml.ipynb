{
 "cells": [
  {
   "cell_type": "code",
   "execution_count": 9,
   "id": "d669d3b2-610f-4161-a4c4-a401c74f83a0",
   "metadata": {},
   "outputs": [],
   "source": [
    "import pandas as pd\n",
    "import numpy as np\n",
    "import xgboost as xgb"
   ]
  },
  {
   "cell_type": "code",
   "execution_count": 10,
   "id": "03bdb37c-6af9-4f81-bc2e-72da91a64f52",
   "metadata": {
    "tags": []
   },
   "outputs": [],
   "source": [
    "#Validation function\n",
    "n_folds = 5\n",
    "from sklearn.model_selection import KFold\n",
    "from sklearn.model_selection import cross_val_score\n",
    "from sklearn.metrics import mean_squared_error\n",
    "\n",
    "\n",
    "\n",
    "def rmsle_cv(model):\n",
    "    kf = KFold(n_folds, shuffle=True, random_state=42).get_n_splits(X_train)\n",
    "    rmse= np.sqrt(-cross_val_score(model, X_train, Y_train, scoring=\"neg_mean_squared_error\", cv = kf))\n",
    "    return(rmse)\n",
    "\n",
    "def rmsle(y, y_pred):\n",
    "    return np.sqrt(mean_squared_error(y, y_pred))"
   ]
  },
  {
   "cell_type": "code",
   "execution_count": 11,
   "id": "d8143339-1dc2-4f31-a76e-39bb752b97c3",
   "metadata": {
    "tags": []
   },
   "outputs": [],
   "source": [
    "model_xgb = xgb.XGBRegressor(colsample_bytree=0.4603,gamma=0.0468, \n",
    "                             learning_rate=0.05, max_depth=3, \n",
    "                             min_child_weight=1.7817, n_estimators=2200,\n",
    "                             reg_alpha=0.4640, reg_lambda=0.8571,\n",
    "                             subsample=0.5213,\n",
    "                             random_state =7, nthread = -1)"
   ]
  },
  {
   "cell_type": "code",
   "execution_count": 12,
   "id": "f5c6467e-7d0e-4650-8770-91d841b9f66a",
   "metadata": {},
   "outputs": [
    {
     "name": "stdout",
     "output_type": "stream",
     "text": [
      "0\n",
      "1\n",
      "2\n",
      "3\n",
      "4\n",
      "5\n",
      "6\n",
      "7\n",
      "8\n",
      "9\n",
      "10\n",
      "11\n",
      "12\n",
      "13\n",
      "14\n",
      "15\n",
      "16\n",
      "17\n",
      "18\n",
      "19\n",
      "20\n",
      "21\n",
      "22\n",
      "23\n",
      "24\n",
      "25\n",
      "26\n",
      "27\n",
      "28\n",
      "29\n",
      "30\n",
      "31\n",
      "32\n",
      "33\n",
      "34\n"
     ]
    }
   ],
   "source": [
    "i = 0 \n",
    "while i !=35:\n",
    "    print(i)\n",
    "    i = i + 1"
   ]
  },
  {
   "cell_type": "code",
   "execution_count": 13,
   "id": "6209b8c6-f507-49c2-8eb0-37a69ee76ca8",
   "metadata": {},
   "outputs": [],
   "source": [
    "i = 0\n",
    "while i != 2:\n",
    "    train_set = pd.read_csv(f'./datasets/il/il_{i}.csv')\n",
    "    test_set = pd.read_csv(f'./datasets/final_test_set.csv')\n",
    "    \n",
    "    X_train = train_set.drop(['guncelfiyat','Ilan_ID'], axis = 1)\n",
    "    Y_train = train_set['guncelfiyat']\n",
    "\n",
    "    X_test = test_set.drop(['guncelfiyat','Ilan_ID'], axis = 1)\n",
    "    Y_test = test_set['guncelfiyat']\n",
    "    \n",
    "    model_xgb.fit(X_train, Y_train)\n",
    "    xgb_train_pred = model_xgb.predict(X_train)\n",
    "    xgb_pred = model_xgb.predict(X_test)\n",
    "    \n",
    "    test_set_xgb = test_set.copy()\n",
    "    test_set_xgb['guncelfiyat'] = xgb_pred\n",
    "    test_set_xgb = test_set_xgb.astype(int)\n",
    "    df = test_set_xgb[['guncelfiyat','Ilan_ID']]\n",
    "    submission_df = pd.read_csv('./datasets/sample_submission_zingat.csv')\n",
    "    \n",
    "    submission_df = submission_df.rename(columns = {'Id': 'Ilan_ID'})\n",
    "    submission_df = submission_df.merge(df, how='inner', on='Ilan_ID')\n",
    "    submission_df = submission_df.drop('Expected', axis = 1)\n",
    "    submission_df = submission_df.rename(columns = {'guncelfiyat': 'Expected'})\n",
    "    submission_df = submission_df.rename(columns = {'Ilan_ID': 'Id'})\n",
    "    submission_xgb = submission_df\n",
    "    submission_xgb.to_csv(f'./datasets/divide_ml/final_submission_set_xgb.csv', index=False)\n",
    "    i = i + 1"
   ]
  },
  {
   "cell_type": "code",
   "execution_count": 15,
   "id": "800863a5-6bc9-47e5-a41c-e48424e4a775",
   "metadata": {},
   "outputs": [],
   "source": [
    "final_sub = pd.read_csv('./datasets/divide_ml/final_submission_set_xgb.csv')"
   ]
  },
  {
   "cell_type": "code",
   "execution_count": 16,
   "id": "8363ee0e-e20c-4e41-8646-9319bf0cf2ba",
   "metadata": {},
   "outputs": [
    {
     "name": "stdout",
     "output_type": "stream",
     "text": [
      "310094.8023456336\n"
     ]
    }
   ],
   "source": [
    "print(rmsle(Y_train, xgb_train_pred))"
   ]
  },
  {
   "cell_type": "code",
   "execution_count": null,
   "id": "021a3f82-2c2b-4b0d-aae5-560f2e5bb074",
   "metadata": {},
   "outputs": [],
   "source": []
  }
 ],
 "metadata": {
  "kernelspec": {
   "display_name": "Python 3 (ipykernel)",
   "language": "python",
   "name": "python3"
  },
  "language_info": {
   "codemirror_mode": {
    "name": "ipython",
    "version": 3
   },
   "file_extension": ".py",
   "mimetype": "text/x-python",
   "name": "python",
   "nbconvert_exporter": "python",
   "pygments_lexer": "ipython3",
   "version": "3.9.6"
  }
 },
 "nbformat": 4,
 "nbformat_minor": 5
}
