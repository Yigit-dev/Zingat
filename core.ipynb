{
 "cells": [
  {
   "cell_type": "code",
   "execution_count": 1,
   "id": "180d6be5-2c8d-49fb-abfd-0cd5a19fd688",
   "metadata": {},
   "outputs": [],
   "source": [
    "import pandas as pd\n",
    "import numpy as np\n",
    "sample_submission_df = pd.read_csv(\"./datasets/sample_submission_zingat.csv\")\n",
    "test_set = pd.read_csv(\"./datasets/zingat_usecase_testset_null.csv\")\n",
    "train_set = pd.read_csv(\"./datasets/zingat_usecase_trainset.csv\")"
   ]
  },
  {
   "cell_type": "markdown",
   "id": "453039c5-8184-4495-ac69-710c8a4ca887",
   "metadata": {},
   "source": [
    "## Change Variable"
   ]
  },
  {
   "cell_type": "code",
   "execution_count": 2,
   "id": "5166c06a-c294-4b86-a53d-7be4e4828683",
   "metadata": {},
   "outputs": [],
   "source": [
    "def change_variable(data):\n",
    "    \n",
    "    data = data.copy()\n",
    "    return data.rename(columns = {\n",
    "        'odasayısı': 'odasayisi',\n",
    "        'brütm²': 'brutm2',\n",
    "        'netm²': 'netm2',\n",
    "        'binayaşı': 'binayasi',\n",
    "        'bulunduğukat': 'bulundugukat',\n",
    "        'binadakikatsayısı': 'binadakikatsayisi',\n",
    "        'isıtmatipi': 'isitmatipi',\n",
    "        'İnterkom': 'interkom',\n",
    "        'depremyönetmeliğineuygun': 'depremyonetmeligineuygun',\n",
    "        'asansör': 'asansor',\n",
    "        'Çocukoyunalanı': 'cocukoyunalani',\n",
    "        'giyinmeodası': 'giyinmeodasi',\n",
    "        'güncel_fiyat': 'guncelfiyat',\n",
    "    })\n",
    "    return data"
   ]
  },
  {
   "cell_type": "code",
   "execution_count": 3,
   "id": "435b08d1-d872-4517-ae2d-646cec0f0cee",
   "metadata": {
    "tags": []
   },
   "outputs": [],
   "source": [
    "train_set = change_variable(train_set)\n",
    "test_set = change_variable(test_set)"
   ]
  },
  {
   "cell_type": "markdown",
   "id": "74eeafcf-c179-4969-852e-86cc2eeb915a",
   "metadata": {},
   "source": [
    "## Converting The Yes-None Values to 0-1"
   ]
  },
  {
   "cell_type": "code",
   "execution_count": 4,
   "id": "c7085bb9-a6d3-4b91-a670-f3e63170e039",
   "metadata": {},
   "outputs": [],
   "source": [
    "def convert_values(data):\n",
    "    \n",
    "    \n",
    "    data.loc[data.interkom == \"VAR\", \"interkom\"] , data.loc[data.interkom == \"YOK\", \"interkom\"] = 1,0\n",
    "    data.loc[data.depremyonetmeligineuygun == \"VAR\", \"depremyonetmeligineuygun\"] , data.loc[data.depremyonetmeligineuygun == \"YOK\", \"depremyonetmeligineuygun\"] = 1,0\n",
    "    data.loc[data.asansor == \"VAR\", \"asansor\"] , data.loc[data.asansor == \"YOK\", \"asansor\"] = 1,0\n",
    "    data.loc[data.cocukoyunalani == \"VAR\", \"cocukoyunalani\"] , data.loc[data.cocukoyunalani == \"YOK\", \"cocukoyunalani\"] = 1,0\n",
    "    data.loc[data.giyinmeodasi == \"VAR\", \"giyinmeodasi\"] , data.loc[data.giyinmeodasi == \"YOK\", \"giyinmeodasi\"] = 1,0\n",
    "    data.loc[data.ebeveynbanyosu == \"VAR\", \"ebeveynbanyosu\"] , data.loc[data.ebeveynbanyosu == \"YOK\", \"ebeveynbanyosu\"] = 1,0\n",
    "    \n",
    "    return data"
   ]
  },
  {
   "cell_type": "code",
   "execution_count": 5,
   "id": "7812007a-3916-4d54-875a-5d2e5ac4b18e",
   "metadata": {},
   "outputs": [],
   "source": [
    "train_set = convert_values(train_set)\n",
    "test_set = convert_values(test_set)"
   ]
  },
  {
   "cell_type": "markdown",
   "id": "97948dc1-2680-418d-9240-89164b40dcc4",
   "metadata": {},
   "source": [
    "## Convert Price"
   ]
  },
  {
   "cell_type": "code",
   "execution_count": 6,
   "id": "02c7c76c-ca18-4fd7-81de-adc0c84a6fef",
   "metadata": {
    "tags": []
   },
   "outputs": [],
   "source": [
    "def convert_price(data):\n",
    "    \n",
    "    data[\"guncelfiyat\"] = data.guncelfiyat.str[:-3]\n",
    "    data[\"guncelfiyat\"] = data[\"guncelfiyat\"].astype(str).astype(int)\n",
    "    return data"
   ]
  },
  {
   "cell_type": "code",
   "execution_count": 7,
   "id": "7ba62daa-a1e8-43d5-83bc-c1c1c5d67c32",
   "metadata": {},
   "outputs": [],
   "source": [
    "train_set = convert_price(train_set)"
   ]
  },
  {
   "cell_type": "code",
   "execution_count": 8,
   "id": "d163c640-824a-4aa5-bad4-60cc12dd9fd1",
   "metadata": {},
   "outputs": [],
   "source": [
    "def tarih_fonksiyonu(data):\n",
    "   \n",
    "    data = data.copy()\n",
    "    data[['yil','ay','gun']] = data[\"tarih\"].str.split(\"-\",expand=True)\n",
    "   \n",
    "    data[\"yil\"] = data[\"yil\"].astype(str).astype(int)\n",
    "    data[\"ay\"] = data[\"ay\"].astype(str).astype(int)\n",
    "    data[\"gun\"] = data[\"gun\"].astype(str).astype(int)\n",
    "    return data\n",
    "   "
   ]
  },
  {
   "cell_type": "code",
   "execution_count": 9,
   "id": "2e0f1927-e489-4f7a-b322-8dd2748a29af",
   "metadata": {},
   "outputs": [],
   "source": [
    "train_set = tarih_fonksiyonu(train_set)\n",
    "test_set = tarih_fonksiyonu(test_set)"
   ]
  },
  {
   "cell_type": "code",
   "execution_count": 10,
   "id": "bd544ca3-50cf-4b7f-90fb-bb3c6b15848e",
   "metadata": {},
   "outputs": [],
   "source": [
    "def belirtilmemis_fonksiyonu(data):\n",
    "    \n",
    "    data = data.copy()\n",
    "    data['manzara'] = data['manzara'].replace(\"-\",\"0\")\n",
    "    \n",
    "    return data"
   ]
  },
  {
   "cell_type": "code",
   "execution_count": 11,
   "id": "f6613bc7-908b-4f68-a341-618281edd403",
   "metadata": {},
   "outputs": [],
   "source": [
    "train_set = belirtilmemis_fonksiyonu(train_set)\n",
    "test_set = belirtilmemis_fonksiyonu(test_set)"
   ]
  },
  {
   "cell_type": "code",
   "execution_count": 12,
   "id": "f489ee63-8896-4e30-94c1-296dd4188d95",
   "metadata": {},
   "outputs": [],
   "source": [
    "def path_split_fonksiyonu(data):\n",
    "    \n",
    "    data = data.copy()\n",
    "    data[['il','ilce','mahalle']] = data[\"path\"].str.split(\"/\",expand=True)\n",
    "    \n",
    "    return data"
   ]
  },
  {
   "cell_type": "code",
   "execution_count": 13,
   "id": "79b297d2-cdf5-4691-bfcc-cec4e8672d5b",
   "metadata": {
    "tags": []
   },
   "outputs": [],
   "source": [
    "train_set = path_split_fonksiyonu(train_set)\n",
    "test_set = path_split_fonksiyonu(test_set)"
   ]
  },
  {
   "cell_type": "code",
   "execution_count": 14,
   "id": "c9b93bc1-b3d1-4ecc-bacd-78e97c2e2477",
   "metadata": {},
   "outputs": [],
   "source": [
    "def odasayisi_fonksiyonu_train(data):\n",
    "   \n",
    "    data = data.copy()\n",
    "    data = data.drop(data.index[data['odasayisi'] == '-'], inplace = False)   \n",
    "    data[['odasayisi','salonsayisi']] = data['odasayisi'].str.split(\"+\",expand=True)\n",
    "    data[\"odasayisi\"] = data[\"odasayisi\"].astype(str).astype(int)\n",
    "    data[\"salonsayisi\"] = data[\"salonsayisi\"].astype(str).astype(int)\n",
    "    \n",
    "    return data"
   ]
  },
  {
   "cell_type": "code",
   "execution_count": 15,
   "id": "417618a9-002b-4e8a-b0b7-f4eaea92649a",
   "metadata": {},
   "outputs": [],
   "source": [
    "def odasayisi_fonksiyonu_test(data):\n",
    "   \n",
    "    data = data.copy()\n",
    "    data['odasayisi'] = data['odasayisi'].replace(\"-\",\"0+0\")  \n",
    "    data[['odasayisi','salonsayisi']] = data['odasayisi'].str.split(\"+\",expand=True)\n",
    "    data[\"odasayisi\"] = data[\"odasayisi\"].astype(str).astype(int)\n",
    "    data[\"salonsayisi\"] = data[\"salonsayisi\"].astype(str).astype(int)\n",
    "    \n",
    "    return data"
   ]
  },
  {
   "cell_type": "code",
   "execution_count": 16,
   "id": "eaba10c1-1d2d-465a-9970-dff023a088e5",
   "metadata": {
    "tags": []
   },
   "outputs": [],
   "source": [
    "train_set = odasayisi_fonksiyonu_train(train_set)\n",
    "test_set = odasayisi_fonksiyonu_test(test_set)"
   ]
  },
  {
   "cell_type": "code",
   "execution_count": 17,
   "id": "2f45bf8a-71d9-40de-a669-f1b48a6fe421",
   "metadata": {},
   "outputs": [],
   "source": [
    "label_encoder_cols = (\"il\",\"ilce\",\"mahalle\",\"emlaktipi\",\"binayasi\",\"bulundugukat\",\"binadakikatsayisi\",\"isitmatipi\",\"otopark\",\"manzara\")"
   ]
  },
  {
   "cell_type": "code",
   "execution_count": 18,
   "id": "5777f0d5-a942-43d6-938a-4cd0546c31ff",
   "metadata": {},
   "outputs": [],
   "source": [
    "from sklearn.preprocessing import LabelEncoder\n",
    "def label_encoder_fonksiyonu(data,cols):\n",
    "    \n",
    "    for col_name in label_encoder_cols:\n",
    "        labelEncoder = LabelEncoder()\n",
    "        labelEncoder.fit(data[col_name].values)\n",
    "        data[col_name] = labelEncoder.transform(data[col_name].values)\n",
    "        \n",
    "    return data"
   ]
  },
  {
   "cell_type": "code",
   "execution_count": 19,
   "id": "574cbf54-c19f-4fae-8fcd-b90621ad45fa",
   "metadata": {},
   "outputs": [],
   "source": [
    "train_set = label_encoder_fonksiyonu(train_set,label_encoder_cols)\n",
    "test_set = label_encoder_fonksiyonu(test_set,label_encoder_cols)"
   ]
  },
  {
   "cell_type": "code",
   "execution_count": 20,
   "id": "9dd26489-42ee-4e95-8aef-0ced720630a3",
   "metadata": {},
   "outputs": [],
   "source": [
    "def banyosayisi_fonksiyonu_train(data):\n",
    "    \n",
    "    data = data.copy()\n",
    "    data = data.drop(data.index[data['banyosayisi'] == '-'], inplace = False)\n",
    "    data = data.drop(data.index[data['banyosayisi'] == '6 ve üzeri'], inplace = False)   \n",
    "\n",
    "    #data['banyosayisi'] = data['banyosayisi'].replace(\"-\",\"-1\")\n",
    "    data['banyosayisi'] = data['banyosayisi'].astype(str).astype(int)\n",
    "    \n",
    "    return data"
   ]
  },
  {
   "cell_type": "code",
   "execution_count": 21,
   "id": "506e10f8-02c8-4d49-a5f0-f44eaba6c00e",
   "metadata": {},
   "outputs": [],
   "source": [
    "def banyosayisi_fonksiyonu_test(data):\n",
    "    \n",
    "    data = data.copy()\n",
    "    # data = data.drop(data.index[data['banyosayisi'] == '-'], inplace = False)\n",
    "    # data = data.drop(data.index[data['banyosayisi'] == '6 ve üzeri'], inplace = False)   \n",
    "    data['banyosayisi'] = data['banyosayisi'].replace(\"-\",\"7\")\n",
    "    data['banyosayisi'] = data['banyosayisi'].replace(\"6 ve üzeri\",\"6\")\n",
    "    data['banyosayisi'] = data['banyosayisi'].astype(str).astype(int)\n",
    "    \n",
    "    return data"
   ]
  },
  {
   "cell_type": "code",
   "execution_count": 22,
   "id": "eafb43ee-6b25-4e74-9fad-baf9fe4b7c31",
   "metadata": {},
   "outputs": [],
   "source": [
    "train_set = banyosayisi_fonksiyonu_train(train_set)\n",
    "test_set = banyosayisi_fonksiyonu_test(test_set)"
   ]
  },
  {
   "cell_type": "code",
   "execution_count": 23,
   "id": "07482c5e-73e3-4e52-9b05-7eb278f3d0e5",
   "metadata": {},
   "outputs": [],
   "source": [
    "def object_to_int(data):\n",
    "    \n",
    "    data = data.copy()\n",
    "    data[['interkom','depremyonetmeligineuygun','asansor','cocukoyunalani','giyinmeodasi','ebeveynbanyosu']] = data[['interkom',\n",
    "                                                                                                                     'depremyonetmeligineuygun',\n",
    "                                                                                                                     'asansor','cocukoyunalani',\n",
    "                                                                                                                     'giyinmeodasi','ebeveynbanyosu']].astype(str).astype(int)\n",
    "    \n",
    "    return data"
   ]
  },
  {
   "cell_type": "code",
   "execution_count": 24,
   "id": "2336595d-1582-478b-87fd-2481c5e2f065",
   "metadata": {},
   "outputs": [],
   "source": [
    "train_set = object_to_int(train_set)\n",
    "test_set = object_to_int(test_set)"
   ]
  },
  {
   "cell_type": "code",
   "execution_count": 25,
   "id": "8b0aac2f-f1fc-4528-b93a-02f634536ba0",
   "metadata": {},
   "outputs": [],
   "source": [
    "train_set = train_set.drop(['tarih','path'], axis = 1)\n",
    "test_set = test_set.drop(['tarih','path'], axis = 1)"
   ]
  },
  {
   "cell_type": "markdown",
   "id": "79500197-0f4a-458a-a6c8-df8c000df3ac",
   "metadata": {},
   "source": [
    "## Core - 2"
   ]
  },
  {
   "cell_type": "code",
   "execution_count": 26,
   "id": "ec8c679f-4aaf-47e6-a33b-8af91023d309",
   "metadata": {},
   "outputs": [],
   "source": [
    "# train_set = train_set.drop(['interkom', 'asansor'], axis = 1)\n",
    "# test_set = test_set.drop(['interkom', 'asansor'], axis = 1)"
   ]
  },
  {
   "cell_type": "code",
   "execution_count": 32,
   "id": "0218aaf9-39ea-40a7-bc27-dc63ecb0d1c0",
   "metadata": {},
   "outputs": [],
   "source": [
    "train_set = train_set.drop(train_set[train_set['guncelfiyat'] > 10000000].index)\n",
    "train_set = train_set.drop(train_set[train_set['odasayisi'] > 50].index)\n",
    "train_set = train_set.drop(train_set[train_set['brutm2'] > 1000].index)\n",
    "train_set = train_set.drop(train_set[train_set['netm2'] > 1000].index)"
   ]
  },
  {
   "cell_type": "code",
   "execution_count": 29,
   "id": "7d159dd4-c4b7-41bc-8178-afe9dc42c1f4",
   "metadata": {},
   "outputs": [],
   "source": [
    "#pip install scipy"
   ]
  },
  {
   "cell_type": "code",
   "execution_count": 30,
   "id": "280bb115-eb98-44d8-8deb-a24e716c896b",
   "metadata": {},
   "outputs": [],
   "source": [
    "# train_set.guncelfiyat\n",
    "# train_set.describe().astype(int)"
   ]
  },
  {
   "cell_type": "code",
   "execution_count": 31,
   "id": "e2e34b53-59c5-42ed-a201-3f22647bab77",
   "metadata": {
    "tags": []
   },
   "outputs": [],
   "source": [
    "# from scipy import stats\n",
    "# import numpy as np\n",
    "# z = np.abs(stats.zscore(train_set))\n",
    "# print(z)"
   ]
  },
  {
   "cell_type": "code",
   "execution_count": 32,
   "id": "1b1a40bc-cfa5-408f-a8bd-5585bb3bb4e3",
   "metadata": {},
   "outputs": [],
   "source": [
    "# train_set = train_set[(z < 3).all(axis = 1)]"
   ]
  },
  {
   "cell_type": "code",
   "execution_count": 33,
   "id": "7b4fd44e-7295-4773-8f21-400241b041d4",
   "metadata": {},
   "outputs": [],
   "source": [
    "#train_set"
   ]
  },
  {
   "cell_type": "code",
   "execution_count": 36,
   "id": "278e564f-caf8-4061-8f63-ab8b9cc8cb66",
   "metadata": {},
   "outputs": [],
   "source": [
    "train_set.to_csv('./datasets/final_train_set.csv')\n",
    "test_set.to_csv('./datasets/final_test_set.csv')"
   ]
  },
  {
   "cell_type": "code",
   "execution_count": 34,
   "id": "1a91435d-17ea-4387-b4cf-51f8d064397a",
   "metadata": {},
   "outputs": [
    {
     "data": {
      "text/html": [
       "<div>\n",
       "<style scoped>\n",
       "    .dataframe tbody tr th:only-of-type {\n",
       "        vertical-align: middle;\n",
       "    }\n",
       "\n",
       "    .dataframe tbody tr th {\n",
       "        vertical-align: top;\n",
       "    }\n",
       "\n",
       "    .dataframe thead th {\n",
       "        text-align: right;\n",
       "    }\n",
       "</style>\n",
       "<table border=\"1\" class=\"dataframe\">\n",
       "  <thead>\n",
       "    <tr style=\"text-align: right;\">\n",
       "      <th></th>\n",
       "      <th>guncelfiyat</th>\n",
       "      <th>odasayisi</th>\n",
       "      <th>brutm2</th>\n",
       "      <th>netm2</th>\n",
       "      <th>emlaktipi</th>\n",
       "      <th>binayasi</th>\n",
       "      <th>bulundugukat</th>\n",
       "      <th>binadakikatsayisi</th>\n",
       "      <th>isitmatipi</th>\n",
       "      <th>banyosayisi</th>\n",
       "      <th>...</th>\n",
       "      <th>giyinmeodasi</th>\n",
       "      <th>ebeveynbanyosu</th>\n",
       "      <th>Ilan_ID</th>\n",
       "      <th>yil</th>\n",
       "      <th>ay</th>\n",
       "      <th>gun</th>\n",
       "      <th>il</th>\n",
       "      <th>ilce</th>\n",
       "      <th>mahalle</th>\n",
       "      <th>salonsayisi</th>\n",
       "    </tr>\n",
       "  </thead>\n",
       "  <tbody>\n",
       "    <tr>\n",
       "      <th>count</th>\n",
       "      <td>63468</td>\n",
       "      <td>63468</td>\n",
       "      <td>63468</td>\n",
       "      <td>63468</td>\n",
       "      <td>63468</td>\n",
       "      <td>63468</td>\n",
       "      <td>63468</td>\n",
       "      <td>63468</td>\n",
       "      <td>63468</td>\n",
       "      <td>63468</td>\n",
       "      <td>...</td>\n",
       "      <td>63468</td>\n",
       "      <td>63468</td>\n",
       "      <td>63468</td>\n",
       "      <td>63468</td>\n",
       "      <td>63468</td>\n",
       "      <td>63468</td>\n",
       "      <td>63468</td>\n",
       "      <td>63468</td>\n",
       "      <td>63468</td>\n",
       "      <td>63468</td>\n",
       "    </tr>\n",
       "    <tr>\n",
       "      <th>mean</th>\n",
       "      <td>699621</td>\n",
       "      <td>2</td>\n",
       "      <td>138</td>\n",
       "      <td>117</td>\n",
       "      <td>0</td>\n",
       "      <td>4</td>\n",
       "      <td>14</td>\n",
       "      <td>6</td>\n",
       "      <td>8</td>\n",
       "      <td>1</td>\n",
       "      <td>...</td>\n",
       "      <td>0</td>\n",
       "      <td>0</td>\n",
       "      <td>32245</td>\n",
       "      <td>2019</td>\n",
       "      <td>5</td>\n",
       "      <td>15</td>\n",
       "      <td>0</td>\n",
       "      <td>15</td>\n",
       "      <td>280</td>\n",
       "      <td>1</td>\n",
       "    </tr>\n",
       "    <tr>\n",
       "      <th>std</th>\n",
       "      <td>1001123</td>\n",
       "      <td>0</td>\n",
       "      <td>71</td>\n",
       "      <td>55</td>\n",
       "      <td>1</td>\n",
       "      <td>4</td>\n",
       "      <td>9</td>\n",
       "      <td>2</td>\n",
       "      <td>2</td>\n",
       "      <td>0</td>\n",
       "      <td>...</td>\n",
       "      <td>0</td>\n",
       "      <td>0</td>\n",
       "      <td>18615</td>\n",
       "      <td>0</td>\n",
       "      <td>3</td>\n",
       "      <td>8</td>\n",
       "      <td>0</td>\n",
       "      <td>8</td>\n",
       "      <td>184</td>\n",
       "      <td>0</td>\n",
       "    </tr>\n",
       "    <tr>\n",
       "      <th>min</th>\n",
       "      <td>172</td>\n",
       "      <td>1</td>\n",
       "      <td>1</td>\n",
       "      <td>1</td>\n",
       "      <td>0</td>\n",
       "      <td>0</td>\n",
       "      <td>0</td>\n",
       "      <td>0</td>\n",
       "      <td>0</td>\n",
       "      <td>0</td>\n",
       "      <td>...</td>\n",
       "      <td>0</td>\n",
       "      <td>0</td>\n",
       "      <td>1</td>\n",
       "      <td>2019</td>\n",
       "      <td>1</td>\n",
       "      <td>1</td>\n",
       "      <td>0</td>\n",
       "      <td>0</td>\n",
       "      <td>0</td>\n",
       "      <td>0</td>\n",
       "    </tr>\n",
       "    <tr>\n",
       "      <th>25%</th>\n",
       "      <td>240000</td>\n",
       "      <td>2</td>\n",
       "      <td>100</td>\n",
       "      <td>88</td>\n",
       "      <td>0</td>\n",
       "      <td>1</td>\n",
       "      <td>12</td>\n",
       "      <td>6</td>\n",
       "      <td>8</td>\n",
       "      <td>1</td>\n",
       "      <td>...</td>\n",
       "      <td>0</td>\n",
       "      <td>0</td>\n",
       "      <td>16153</td>\n",
       "      <td>2019</td>\n",
       "      <td>2</td>\n",
       "      <td>9</td>\n",
       "      <td>0</td>\n",
       "      <td>7</td>\n",
       "      <td>132</td>\n",
       "      <td>1</td>\n",
       "    </tr>\n",
       "    <tr>\n",
       "      <th>50%</th>\n",
       "      <td>375000</td>\n",
       "      <td>3</td>\n",
       "      <td>125</td>\n",
       "      <td>107</td>\n",
       "      <td>0</td>\n",
       "      <td>2</td>\n",
       "      <td>14</td>\n",
       "      <td>7</td>\n",
       "      <td>9</td>\n",
       "      <td>1</td>\n",
       "      <td>...</td>\n",
       "      <td>0</td>\n",
       "      <td>0</td>\n",
       "      <td>32226</td>\n",
       "      <td>2019</td>\n",
       "      <td>5</td>\n",
       "      <td>16</td>\n",
       "      <td>0</td>\n",
       "      <td>15</td>\n",
       "      <td>240</td>\n",
       "      <td>1</td>\n",
       "    </tr>\n",
       "    <tr>\n",
       "      <th>75%</th>\n",
       "      <td>715000</td>\n",
       "      <td>3</td>\n",
       "      <td>150</td>\n",
       "      <td>133</td>\n",
       "      <td>0</td>\n",
       "      <td>7</td>\n",
       "      <td>20</td>\n",
       "      <td>8</td>\n",
       "      <td>9</td>\n",
       "      <td>2</td>\n",
       "      <td>...</td>\n",
       "      <td>0</td>\n",
       "      <td>1</td>\n",
       "      <td>48384</td>\n",
       "      <td>2019</td>\n",
       "      <td>9</td>\n",
       "      <td>23</td>\n",
       "      <td>1</td>\n",
       "      <td>23</td>\n",
       "      <td>459</td>\n",
       "      <td>1</td>\n",
       "    </tr>\n",
       "    <tr>\n",
       "      <th>max</th>\n",
       "      <td>10000000</td>\n",
       "      <td>10</td>\n",
       "      <td>1000</td>\n",
       "      <td>999</td>\n",
       "      <td>8</td>\n",
       "      <td>14</td>\n",
       "      <td>34</td>\n",
       "      <td>12</td>\n",
       "      <td>16</td>\n",
       "      <td>5</td>\n",
       "      <td>...</td>\n",
       "      <td>1</td>\n",
       "      <td>1</td>\n",
       "      <td>64573</td>\n",
       "      <td>2020</td>\n",
       "      <td>12</td>\n",
       "      <td>31</td>\n",
       "      <td>1</td>\n",
       "      <td>34</td>\n",
       "      <td>649</td>\n",
       "      <td>4</td>\n",
       "    </tr>\n",
       "  </tbody>\n",
       "</table>\n",
       "<p>8 rows × 26 columns</p>\n",
       "</div>"
      ],
      "text/plain": [
       "       guncelfiyat  odasayisi  brutm2  netm2  emlaktipi  binayasi  \\\n",
       "count        63468      63468   63468  63468      63468     63468   \n",
       "mean        699621          2     138    117          0         4   \n",
       "std        1001123          0      71     55          1         4   \n",
       "min            172          1       1      1          0         0   \n",
       "25%         240000          2     100     88          0         1   \n",
       "50%         375000          3     125    107          0         2   \n",
       "75%         715000          3     150    133          0         7   \n",
       "max       10000000         10    1000    999          8        14   \n",
       "\n",
       "       bulundugukat  binadakikatsayisi  isitmatipi  banyosayisi  ...  \\\n",
       "count         63468              63468       63468        63468  ...   \n",
       "mean             14                  6           8            1  ...   \n",
       "std               9                  2           2            0  ...   \n",
       "min               0                  0           0            0  ...   \n",
       "25%              12                  6           8            1  ...   \n",
       "50%              14                  7           9            1  ...   \n",
       "75%              20                  8           9            2  ...   \n",
       "max              34                 12          16            5  ...   \n",
       "\n",
       "       giyinmeodasi  ebeveynbanyosu  Ilan_ID    yil     ay    gun     il  \\\n",
       "count         63468           63468    63468  63468  63468  63468  63468   \n",
       "mean              0               0    32245   2019      5     15      0   \n",
       "std               0               0    18615      0      3      8      0   \n",
       "min               0               0        1   2019      1      1      0   \n",
       "25%               0               0    16153   2019      2      9      0   \n",
       "50%               0               0    32226   2019      5     16      0   \n",
       "75%               0               1    48384   2019      9     23      1   \n",
       "max               1               1    64573   2020     12     31      1   \n",
       "\n",
       "        ilce  mahalle  salonsayisi  \n",
       "count  63468    63468        63468  \n",
       "mean      15      280            1  \n",
       "std        8      184            0  \n",
       "min        0        0            0  \n",
       "25%        7      132            1  \n",
       "50%       15      240            1  \n",
       "75%       23      459            1  \n",
       "max       34      649            4  \n",
       "\n",
       "[8 rows x 26 columns]"
      ]
     },
     "execution_count": 34,
     "metadata": {},
     "output_type": "execute_result"
    }
   ],
   "source": [
    "train_set.describe().astype(int)"
   ]
  },
  {
   "cell_type": "code",
   "execution_count": 35,
   "id": "2cce074f-c99e-422f-988b-63286adce7ce",
   "metadata": {},
   "outputs": [
    {
     "name": "stdout",
     "output_type": "stream",
     "text": [
      "<class 'pandas.core.frame.DataFrame'>\n",
      "Int64Index: 63468 entries, 0 to 64572\n",
      "Data columns (total 26 columns):\n",
      " #   Column                    Non-Null Count  Dtype  \n",
      "---  ------                    --------------  -----  \n",
      " 0   guncelfiyat               63468 non-null  int32  \n",
      " 1   odasayisi                 63468 non-null  int32  \n",
      " 2   brutm2                    63468 non-null  float64\n",
      " 3   netm2                     63468 non-null  float64\n",
      " 4   emlaktipi                 63468 non-null  int32  \n",
      " 5   binayasi                  63468 non-null  int32  \n",
      " 6   bulundugukat              63468 non-null  int32  \n",
      " 7   binadakikatsayisi         63468 non-null  int32  \n",
      " 8   isitmatipi                63468 non-null  int32  \n",
      " 9   banyosayisi               63468 non-null  int32  \n",
      " 10  manzara                   63468 non-null  int32  \n",
      " 11  otopark                   63468 non-null  int32  \n",
      " 12  interkom                  63468 non-null  int32  \n",
      " 13  depremyonetmeligineuygun  63468 non-null  int32  \n",
      " 14  asansor                   63468 non-null  int32  \n",
      " 15  cocukoyunalani            63468 non-null  int32  \n",
      " 16  giyinmeodasi              63468 non-null  int32  \n",
      " 17  ebeveynbanyosu            63468 non-null  int32  \n",
      " 18  Ilan_ID                   63468 non-null  int64  \n",
      " 19  yil                       63468 non-null  int32  \n",
      " 20  ay                        63468 non-null  int32  \n",
      " 21  gun                       63468 non-null  int32  \n",
      " 22  il                        63468 non-null  int32  \n",
      " 23  ilce                      63468 non-null  int32  \n",
      " 24  mahalle                   63468 non-null  int32  \n",
      " 25  salonsayisi               63468 non-null  int32  \n",
      "dtypes: float64(2), int32(23), int64(1)\n",
      "memory usage: 9.5 MB\n"
     ]
    }
   ],
   "source": [
    "train_set.info()"
   ]
  },
  {
   "cell_type": "code",
   "execution_count": null,
   "id": "c0d311be-e389-4bcf-8779-814879ef9161",
   "metadata": {},
   "outputs": [],
   "source": []
  }
 ],
 "metadata": {
  "kernelspec": {
   "display_name": "Python 3",
   "language": "python",
   "name": "python3"
  },
  "language_info": {
   "codemirror_mode": {
    "name": "ipython",
    "version": 3
   },
   "file_extension": ".py",
   "mimetype": "text/x-python",
   "name": "python",
   "nbconvert_exporter": "python",
   "pygments_lexer": "ipython3",
   "version": "3.8.8"
  }
 },
 "nbformat": 4,
 "nbformat_minor": 5
}
