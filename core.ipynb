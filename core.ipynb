{
 "cells": [
  {
   "cell_type": "code",
   "execution_count": 399,
   "id": "180d6be5-2c8d-49fb-abfd-0cd5a19fd688",
   "metadata": {},
   "outputs": [],
   "source": [
    "import pandas as pd\n",
    "import numpy as np\n",
    "sample_submission_df = pd.read_csv(\"./dogus-teknoloji-zingat/sample_submission_zingat.csv\")\n",
    "test_set = pd.read_csv(\"./dogus-teknoloji-zingat/zingat_usecase_testset_null.csv\")\n",
    "train_set = pd.read_csv(\"./dogus-teknoloji-zingat/zingat_usecase_trainset.csv\")"
   ]
  },
  {
   "cell_type": "markdown",
   "id": "453039c5-8184-4495-ac69-710c8a4ca887",
   "metadata": {},
   "source": [
    "## Change Variable"
   ]
  },
  {
   "cell_type": "code",
   "execution_count": 400,
   "id": "5166c06a-c294-4b86-a53d-7be4e4828683",
   "metadata": {},
   "outputs": [],
   "source": [
    "def change_variable(data):\n",
    "    \n",
    "    data = data.copy()\n",
    "    return data.rename(columns = {\n",
    "        'odasayısı': 'odasayisi',\n",
    "        'brütm²': 'brutm2',\n",
    "        'netm²': 'netm2',\n",
    "        'binayaşı': 'binayasi',\n",
    "        'bulunduğukat': 'bulundugukat',\n",
    "        'binadakikatsayısı': 'binadakikatsayisi',\n",
    "        'isıtmatipi': 'isitmatipi',\n",
    "        'İnterkom': 'interkom',\n",
    "        'depremyönetmeliğineuygun': 'depremyonetmeligineuygun',\n",
    "        'asansör': 'asansor',\n",
    "        'Çocukoyunalanı': 'cocukoyunalani',\n",
    "        'giyinmeodası': 'giyinmeodasi',\n",
    "        'güncel_fiyat': 'guncelfiyat',\n",
    "    })\n",
    "    return data"
   ]
  },
  {
   "cell_type": "code",
   "execution_count": 401,
   "id": "435b08d1-d872-4517-ae2d-646cec0f0cee",
   "metadata": {
    "tags": []
   },
   "outputs": [],
   "source": [
    "train_set = change_variable(train_set)"
   ]
  },
  {
   "cell_type": "markdown",
   "id": "74eeafcf-c179-4969-852e-86cc2eeb915a",
   "metadata": {},
   "source": [
    "## Converting The Yes-None Values to 0-1"
   ]
  },
  {
   "cell_type": "code",
   "execution_count": 402,
   "id": "c7085bb9-a6d3-4b91-a670-f3e63170e039",
   "metadata": {},
   "outputs": [],
   "source": [
    "def convert_values(data):\n",
    "    \n",
    "    \n",
    "    data.loc[data.interkom == \"VAR\", \"interkom\"] , data.loc[data.interkom == \"YOK\", \"interkom\"] = 1,0\n",
    "    data.loc[data.depremyonetmeligineuygun == \"VAR\", \"depremyonetmeligineuygun\"] , data.loc[data.depremyonetmeligineuygun == \"YOK\", \"depremyonetmeligineuygun\"] = 1,0\n",
    "    data.loc[data.asansor == \"VAR\", \"asansor\"] , data.loc[data.asansor == \"YOK\", \"asansor\"] = 1,0\n",
    "    data.loc[data.cocukoyunalani == \"VAR\", \"cocukoyunalani\"] , data.loc[data.cocukoyunalani == \"YOK\", \"cocukoyunalani\"] = 1,0\n",
    "    data.loc[data.giyinmeodasi == \"VAR\", \"giyinmeodasi\"] , data.loc[data.giyinmeodasi == \"YOK\", \"giyinmeodasi\"] = 1,0\n",
    "    data.loc[data.ebeveynbanyosu == \"VAR\", \"ebeveynbanyosu\"] , data.loc[data.ebeveynbanyosu == \"YOK\", \"ebeveynbanyosu\"] = 1,0\n",
    "    \n",
    "    return data"
   ]
  },
  {
   "cell_type": "code",
   "execution_count": 403,
   "id": "7812007a-3916-4d54-875a-5d2e5ac4b18e",
   "metadata": {},
   "outputs": [],
   "source": [
    "train_set = convert_values(train_set)"
   ]
  },
  {
   "cell_type": "markdown",
   "id": "97948dc1-2680-418d-9240-89164b40dcc4",
   "metadata": {},
   "source": [
    "## Convert Price"
   ]
  },
  {
   "cell_type": "code",
   "execution_count": 404,
   "id": "02c7c76c-ca18-4fd7-81de-adc0c84a6fef",
   "metadata": {
    "tags": []
   },
   "outputs": [],
   "source": [
    "def convert_price(data):\n",
    "    \n",
    "    data[\"guncelfiyat\"] = data.guncelfiyat.str[:-3]\n",
    "    data[\"guncelfiyat\"] = data[\"guncelfiyat\"].astype(str).astype(int)\n",
    "    return data"
   ]
  },
  {
   "cell_type": "code",
   "execution_count": 405,
   "id": "7ba62daa-a1e8-43d5-83bc-c1c1c5d67c32",
   "metadata": {},
   "outputs": [],
   "source": [
    "train_set = convert_price(train_set)"
   ]
  },
  {
   "cell_type": "code",
   "execution_count": 406,
   "id": "d163c640-824a-4aa5-bad4-60cc12dd9fd1",
   "metadata": {},
   "outputs": [],
   "source": [
    "def tarih_fonksiyonu(data):\n",
    "   \n",
    "    data = data.copy()\n",
    "    data[['yil','ay','gun']] = data[\"tarih\"].str.split(\"-\",expand=True)\n",
    "   \n",
    "    data[\"yil\"] = data[\"yil\"].astype(str).astype(int)\n",
    "    data[\"ay\"] = data[\"ay\"].astype(str).astype(int)\n",
    "    data[\"gun\"] = data[\"gun\"].astype(str).astype(int)\n",
    "    return data\n",
    "   "
   ]
  },
  {
   "cell_type": "code",
   "execution_count": 407,
   "id": "2e0f1927-e489-4f7a-b322-8dd2748a29af",
   "metadata": {},
   "outputs": [],
   "source": [
    "train_set = tarih_fonksiyonu(train_set)"
   ]
  },
  {
   "cell_type": "code",
   "execution_count": 408,
   "id": "bd544ca3-50cf-4b7f-90fb-bb3c6b15848e",
   "metadata": {},
   "outputs": [],
   "source": [
    "def belirtilmemis_fonksiyonu(data):\n",
    "    \n",
    "    data = data.copy()\n",
    "    data['manzara'] = data['manzara'].replace(\"-\",\"0\")\n",
    "    \n",
    "    return data"
   ]
  },
  {
   "cell_type": "code",
   "execution_count": 409,
   "id": "f6613bc7-908b-4f68-a341-618281edd403",
   "metadata": {},
   "outputs": [],
   "source": [
    "train_set = belirtilmemis_fonksiyonu(train_set)"
   ]
  },
  {
   "cell_type": "code",
   "execution_count": 410,
   "id": "f489ee63-8896-4e30-94c1-296dd4188d95",
   "metadata": {},
   "outputs": [],
   "source": [
    "def path_split_fonksiyonu(data):\n",
    "    \n",
    "    data = data.copy()\n",
    "    data[['il','ilce','mahalle']] = data[\"path\"].str.split(\"/\",expand=True)\n",
    "    \n",
    "    return data"
   ]
  },
  {
   "cell_type": "code",
   "execution_count": 411,
   "id": "79b297d2-cdf5-4691-bfcc-cec4e8672d5b",
   "metadata": {
    "tags": []
   },
   "outputs": [],
   "source": [
    "train_set = path_split_fonksiyonu(train_set)"
   ]
  },
  {
   "cell_type": "code",
   "execution_count": 414,
   "id": "c9b93bc1-b3d1-4ecc-bacd-78e97c2e2477",
   "metadata": {},
   "outputs": [],
   "source": [
    "def odasayisi_fonksiyonu(data):\n",
    "   \n",
    "    data = data.copy()\n",
    "    data['odasayisi'] = data['odasayisi'].replace(\"-\",\"0+0\")\n",
    "    data[['odasayisi','salonsayisi']] = data['odasayisi'].str.split(\"+\",expand=True)\n",
    "    data[\"odasayisi\"] = data[\"odasayisi\"].astype(str).astype(int)\n",
    "    data[\"salonsayisi\"] = data[\"salonsayisi\"].astype(str).astype(int)\n",
    "    \n",
    "    return data"
   ]
  },
  {
   "cell_type": "code",
   "execution_count": 415,
   "id": "eaba10c1-1d2d-465a-9970-dff023a088e5",
   "metadata": {
    "tags": []
   },
   "outputs": [],
   "source": [
    "train_set = odasayisi_fonksiyonu(train_set)"
   ]
  },
  {
   "cell_type": "code",
   "execution_count": 416,
   "id": "2f45bf8a-71d9-40de-a669-f1b48a6fe421",
   "metadata": {},
   "outputs": [],
   "source": [
    "label_encoder_cols = (\"il\",\"ilce\",\"mahalle\",\"emlaktipi\",\"binayasi\",\"bulundugukat\",\"binadakikatsayisi\",\"isitmatipi\",\"otopark\",\"manzara\")"
   ]
  },
  {
   "cell_type": "code",
   "execution_count": 417,
   "id": "5777f0d5-a942-43d6-938a-4cd0546c31ff",
   "metadata": {},
   "outputs": [],
   "source": [
    "from sklearn.preprocessing import LabelEncoder\n",
    "def label_encoder_fonksiyonu(data,cols):\n",
    "    \n",
    "    for col_name in label_encoder_cols:\n",
    "        labelEncoder = LabelEncoder()\n",
    "        labelEncoder.fit(data[col_name].values)\n",
    "        data[col_name] = labelEncoder.transform(data[col_name].values)\n",
    "        \n",
    "    return data"
   ]
  },
  {
   "cell_type": "code",
   "execution_count": 418,
   "id": "574cbf54-c19f-4fae-8fcd-b90621ad45fa",
   "metadata": {},
   "outputs": [],
   "source": [
    "train_set = label_encoder_fonksiyonu(train_set,label_encoder_cols)"
   ]
  },
  {
   "cell_type": "code",
   "execution_count": 419,
   "id": "9dd26489-42ee-4e95-8aef-0ced720630a3",
   "metadata": {},
   "outputs": [],
   "source": [
    "def banyosayisi_fonksiyonu(data):\n",
    "    \n",
    "    data = data.copy()\n",
    "    data['banyosayisi'] = data['banyosayisi'].replace(\"6 ve üzeri\",\"6\")\n",
    "    data['banyosayisi'] = data['banyosayisi'].replace(\"-\",\"7\")\n",
    "    data['banyosayisi'] = data['banyosayisi'].astype(str).astype(int)\n",
    "    \n",
    "    return data"
   ]
  },
  {
   "cell_type": "code",
   "execution_count": 420,
   "id": "eafb43ee-6b25-4e74-9fad-baf9fe4b7c31",
   "metadata": {},
   "outputs": [],
   "source": [
    "train_set = banyosayisi_fonksiyonu(train_set)"
   ]
  },
  {
   "cell_type": "code",
   "execution_count": 421,
   "id": "07482c5e-73e3-4e52-9b05-7eb278f3d0e5",
   "metadata": {},
   "outputs": [],
   "source": [
    "def object_to_int(data):\n",
    "    \n",
    "    data = data.copy()\n",
    "    data[['interkom','depremyonetmeligineuygun','asansor','cocukoyunalani','giyinmeodasi','ebeveynbanyosu']] = data[['interkom',\n",
    "                                                                                                                     'depremyonetmeligineuygun',\n",
    "                                                                                                                     'asansor','cocukoyunalani',\n",
    "                                                                                                                     'giyinmeodasi','ebeveynbanyosu']].astype(str).astype(int)\n",
    "    \n",
    "    return data"
   ]
  },
  {
   "cell_type": "code",
   "execution_count": 422,
   "id": "2336595d-1582-478b-87fd-2481c5e2f065",
   "metadata": {},
   "outputs": [],
   "source": [
    "train_set = object_to_int(train_set)"
   ]
  },
  {
   "cell_type": "code",
   "execution_count": 423,
   "id": "91b22d11-9bc4-4ceb-96c0-38a0c179f0a4",
   "metadata": {},
   "outputs": [
    {
     "name": "stdout",
     "output_type": "stream",
     "text": [
      "<class 'pandas.core.frame.DataFrame'>\n",
      "RangeIndex: 64573 entries, 0 to 64572\n",
      "Data columns (total 28 columns):\n",
      " #   Column                    Non-Null Count  Dtype  \n",
      "---  ------                    --------------  -----  \n",
      " 0   tarih                     64573 non-null  object \n",
      " 1   path                      64573 non-null  object \n",
      " 2   guncelfiyat               64573 non-null  int32  \n",
      " 3   odasayisi                 64573 non-null  int32  \n",
      " 4   brutm2                    64573 non-null  float64\n",
      " 5   netm2                     64573 non-null  float64\n",
      " 6   emlaktipi                 64573 non-null  int32  \n",
      " 7   binayasi                  64573 non-null  int32  \n",
      " 8   bulundugukat              64573 non-null  int32  \n",
      " 9   binadakikatsayisi         64573 non-null  int32  \n",
      " 10  isitmatipi                64573 non-null  int32  \n",
      " 11  banyosayisi               64573 non-null  int32  \n",
      " 12  manzara                   64573 non-null  int32  \n",
      " 13  otopark                   64573 non-null  int32  \n",
      " 14  interkom                  64573 non-null  int32  \n",
      " 15  depremyonetmeligineuygun  64573 non-null  int32  \n",
      " 16  asansor                   64573 non-null  int32  \n",
      " 17  cocukoyunalani            64573 non-null  int32  \n",
      " 18  giyinmeodasi              64573 non-null  int32  \n",
      " 19  ebeveynbanyosu            64573 non-null  int32  \n",
      " 20  Ilan_ID                   64573 non-null  int64  \n",
      " 21  yil                       64573 non-null  int32  \n",
      " 22  ay                        64573 non-null  int32  \n",
      " 23  gun                       64573 non-null  int32  \n",
      " 24  il                        64573 non-null  int32  \n",
      " 25  ilce                      64573 non-null  int32  \n",
      " 26  mahalle                   64573 non-null  int32  \n",
      " 27  salonsayisi               64573 non-null  int32  \n",
      "dtypes: float64(2), int32(23), int64(1), object(2)\n",
      "memory usage: 8.1+ MB\n"
     ]
    }
   ],
   "source": [
    "train_set.info()"
   ]
  },
  {
   "cell_type": "code",
   "execution_count": null,
   "id": "278e564f-caf8-4061-8f63-ab8b9cc8cb66",
   "metadata": {},
   "outputs": [],
   "source": []
  }
 ],
 "metadata": {
  "kernelspec": {
   "display_name": "Python 3",
   "language": "python",
   "name": "python3"
  },
  "language_info": {
   "codemirror_mode": {
    "name": "ipython",
    "version": 3
   },
   "file_extension": ".py",
   "mimetype": "text/x-python",
   "name": "python",
   "nbconvert_exporter": "python",
   "pygments_lexer": "ipython3",
   "version": "3.8.8"
  }
 },
 "nbformat": 4,
 "nbformat_minor": 5
}
